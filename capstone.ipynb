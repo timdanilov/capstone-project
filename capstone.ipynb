{
 "cells": [
  {
   "cell_type": "code",
   "execution_count": 77,
   "metadata": {
    "id": "4p_mtjetDo4F"
   },
   "outputs": [
    {
     "name": "stdout",
     "output_type": "stream",
     "text": [
      "Requirement already satisfied: pandas in c:\\users\\timda\\anaconda3\\lib\\site-packages (from -r requirements.txt (line 1)) (1.4.2)\n",
      "Requirement already satisfied: numpy in c:\\users\\timda\\anaconda3\\lib\\site-packages (from -r requirements.txt (line 2)) (1.22.4)\n",
      "Requirement already satisfied: fredapi in c:\\users\\timda\\anaconda3\\lib\\site-packages (from -r requirements.txt (line 3)) (0.5.0)\n",
      "Requirement already satisfied: EIA_python in c:\\users\\timda\\anaconda3\\lib\\site-packages (from -r requirements.txt (line 4)) (1.22)\n",
      "Requirement already satisfied: requests in c:\\users\\timda\\anaconda3\\lib\\site-packages (from -r requirements.txt (line 5)) (2.27.1)\n",
      "Requirement already satisfied: python-dateutil>=2.8.1 in c:\\users\\timda\\anaconda3\\lib\\site-packages (from pandas->-r requirements.txt (line 1)) (2.8.2)\n",
      "Requirement already satisfied: pytz>=2020.1 in c:\\users\\timda\\anaconda3\\lib\\site-packages (from pandas->-r requirements.txt (line 1)) (2022.7.1)\n",
      "Requirement already satisfied: urllib3<1.27,>=1.21.1 in c:\\users\\timda\\anaconda3\\lib\\site-packages (from requests->-r requirements.txt (line 5)) (1.26.9)\n",
      "Requirement already satisfied: certifi>=2017.4.17 in c:\\users\\timda\\anaconda3\\lib\\site-packages (from requests->-r requirements.txt (line 5)) (2021.10.8)\n",
      "Requirement already satisfied: idna<4,>=2.5 in c:\\users\\timda\\anaconda3\\lib\\site-packages (from requests->-r requirements.txt (line 5)) (3.3)\n",
      "Requirement already satisfied: charset-normalizer~=2.0.0 in c:\\users\\timda\\anaconda3\\lib\\site-packages (from requests->-r requirements.txt (line 5)) (2.0.4)\n",
      "Requirement already satisfied: six>=1.5 in c:\\users\\timda\\anaconda3\\lib\\site-packages (from python-dateutil>=2.8.1->pandas->-r requirements.txt (line 1)) (1.16.0)\n",
      "Note: you may need to restart the kernel to use updated packages.\n"
     ]
    }
   ],
   "source": [
    "%pip install -r requirements.txt"
   ]
  },
  {
   "cell_type": "code",
   "execution_count": 78,
   "metadata": {},
   "outputs": [],
   "source": [
    "#Importing libraries\n",
    "import pandas as pd\n",
    "from fredapi import Fred\n",
    "import requests"
   ]
  },
  {
   "cell_type": "markdown",
   "metadata": {},
   "source": [
    "# Data Preprocessing"
   ]
  },
  {
   "cell_type": "code",
   "execution_count": 242,
   "metadata": {},
   "outputs": [
    {
     "data": {
      "text/html": [
       "<div>\n",
       "<style scoped>\n",
       "    .dataframe tbody tr th:only-of-type {\n",
       "        vertical-align: middle;\n",
       "    }\n",
       "\n",
       "    .dataframe tbody tr th {\n",
       "        vertical-align: top;\n",
       "    }\n",
       "\n",
       "    .dataframe thead th {\n",
       "        text-align: right;\n",
       "    }\n",
       "</style>\n",
       "<table border=\"1\" class=\"dataframe\">\n",
       "  <thead>\n",
       "    <tr style=\"text-align: right;\">\n",
       "      <th></th>\n",
       "      <th>WTI Crude</th>\n",
       "      <th>Gasoline</th>\n",
       "      <th>Jet Fuel</th>\n",
       "      <th>Diesel</th>\n",
       "      <th>Heating Oil</th>\n",
       "      <th>Propane</th>\n",
       "    </tr>\n",
       "    <tr>\n",
       "      <th>period</th>\n",
       "      <th></th>\n",
       "      <th></th>\n",
       "      <th></th>\n",
       "      <th></th>\n",
       "      <th></th>\n",
       "      <th></th>\n",
       "    </tr>\n",
       "  </thead>\n",
       "  <tbody>\n",
       "    <tr>\n",
       "      <th>2023-09-29</th>\n",
       "      <td>75.37</td>\n",
       "      <td>2.195</td>\n",
       "      <td>2.327</td>\n",
       "      <td>2.412</td>\n",
       "      <td>2.389</td>\n",
       "      <td>1.100</td>\n",
       "    </tr>\n",
       "    <tr>\n",
       "      <th>2023-09-28</th>\n",
       "      <td>75.16</td>\n",
       "      <td>2.204</td>\n",
       "      <td>2.317</td>\n",
       "      <td>2.397</td>\n",
       "      <td>2.372</td>\n",
       "      <td>1.075</td>\n",
       "    </tr>\n",
       "    <tr>\n",
       "      <th>2023-09-27</th>\n",
       "      <td>76.40</td>\n",
       "      <td>2.219</td>\n",
       "      <td>2.345</td>\n",
       "      <td>2.432</td>\n",
       "      <td>2.410</td>\n",
       "      <td>1.063</td>\n",
       "    </tr>\n",
       "    <tr>\n",
       "      <th>2023-09-26</th>\n",
       "      <td>74.44</td>\n",
       "      <td>2.189</td>\n",
       "      <td>2.312</td>\n",
       "      <td>2.399</td>\n",
       "      <td>2.379</td>\n",
       "      <td>1.035</td>\n",
       "    </tr>\n",
       "    <tr>\n",
       "      <th>2023-09-25</th>\n",
       "      <td>74.26</td>\n",
       "      <td>2.170</td>\n",
       "      <td>2.301</td>\n",
       "      <td>2.388</td>\n",
       "      <td>2.368</td>\n",
       "      <td>1.040</td>\n",
       "    </tr>\n",
       "  </tbody>\n",
       "</table>\n",
       "</div>"
      ],
      "text/plain": [
       "            WTI Crude  Gasoline  Jet Fuel  Diesel  Heating Oil  Propane\n",
       "period                                                                 \n",
       "2023-09-29      75.37     2.195     2.327   2.412        2.389    1.100\n",
       "2023-09-28      75.16     2.204     2.317   2.397        2.372    1.075\n",
       "2023-09-27      76.40     2.219     2.345   2.432        2.410    1.063\n",
       "2023-09-26      74.44     2.189     2.312   2.399        2.379    1.035\n",
       "2023-09-25      74.26     2.170     2.301   2.388        2.368    1.040"
      ]
     },
     "execution_count": 242,
     "metadata": {},
     "output_type": "execute_result"
    }
   ],
   "source": [
    "# EIA API connection details\n",
    "api_key = \"WyIzc4qhpYE6rxEDvB216tCCuvSkHBwGLJ6ddpam\"\n",
    "eia_url = 'https://api.eia.gov/v2/petroleum/pri/spt/data/'\n",
    "\n",
    "# List of oil products and codes\n",
    "products = [\n",
    "  {'name': 'WTI Crude', 'code':'RWTC'},\n",
    "  {'name': 'Gasoline', 'code':'EER_EPMRU_PF4_Y35NY_DPG'},\n",
    "  {'name': 'Jet Fuel', 'code':'EER_EPJK_PF4_RGC_DPG'},\n",
    "  {'name': 'Diesel', 'code':'EER_EPD2DXL0_PF4_Y35NY_DPG'},\n",
    "  {'name': 'Heating Oil', 'code':'EER_EPD2F_PF4_Y35NY_DPG'},\n",
    "  {'name': 'Propane', 'code':'EER_EPLLPA_PF4_Y44MB_DPG'}\n",
    "  ]\n",
    "\n",
    "start = '2018-10-01'\n",
    "end = '2023-10-01'\n",
    "date_range = pd.date_range(start, end, freq='D').strftime('%Y-%m-%d')\n",
    "\n",
    "oil_products_df = pd.DataFrame(date_range, columns=['period'])\n",
    "\n",
    "for product in products: \n",
    "  # Query parameters \n",
    "  params = '?frequency=daily&data[0]=value&facets[series][]=%s&start=%s&end=%s&sort[0][column]=period&sort[0][direction]=desc&api_key=%s' % (product['code'], start, end, api_key)\n",
    "\n",
    "  # Fetch the data using GET request\n",
    "  data = requests.get(eia_url + params).json()\n",
    "  df = pd.DataFrame(data['response']['data'])\n",
    "  \n",
    "  # Naming column with oil product name\n",
    "  df.rename(columns={\"value\": product['name']}, inplace=True) \n",
    "\n",
    "  # Merging price series\n",
    "  oil_products_df = pd.merge(oil_products_df, df[['period', product['name']]], on='period') \n",
    "  \n",
    "# Setting proper index\n",
    "oil_products_df['period'] = pd.to_datetime(df['period'])\n",
    "oil_products_df.set_index('period', inplace=True)\n",
    "\n",
    "\n",
    "oil_products_df.head()"
   ]
  },
  {
   "cell_type": "code",
   "execution_count": 243,
   "metadata": {},
   "outputs": [
    {
     "data": {
      "text/plain": [
       "<AxesSubplot:xlabel='period'>"
      ]
     },
     "execution_count": 243,
     "metadata": {},
     "output_type": "execute_result"
    },
    {
     "data": {
      "image/png": "[encoded data removed]",
      "text/plain": [
       "<Figure size 432x288 with 1 Axes>"
      ]
     },
     "metadata": {
      "needs_background": "light"
     },
     "output_type": "display_data"
    }
   ],
   "source": [
    "oil_products_df.plot()\n"
   ]
  },
  {
   "cell_type": "code",
   "execution_count": 88,
   "metadata": {},
   "outputs": [
    {
     "data": {
      "text/html": [
       "<div>\n",
       "<style scoped>\n",
       "    .dataframe tbody tr th:only-of-type {\n",
       "        vertical-align: middle;\n",
       "    }\n",
       "\n",
       "    .dataframe tbody tr th {\n",
       "        vertical-align: top;\n",
       "    }\n",
       "\n",
       "    .dataframe thead th {\n",
       "        text-align: right;\n",
       "    }\n",
       "</style>\n",
       "<table border=\"1\" class=\"dataframe\">\n",
       "  <thead>\n",
       "    <tr style=\"text-align: right;\">\n",
       "      <th></th>\n",
       "      <th>Price</th>\n",
       "    </tr>\n",
       "  </thead>\n",
       "  <tbody>\n",
       "    <tr>\n",
       "      <th>2008-01-01</th>\n",
       "      <td>37.611394</td>\n",
       "    </tr>\n",
       "    <tr>\n",
       "      <th>2009-01-01</th>\n",
       "      <td>73.642577</td>\n",
       "    </tr>\n",
       "    <tr>\n",
       "      <th>2010-01-01</th>\n",
       "      <td>67.572343</td>\n",
       "    </tr>\n",
       "    <tr>\n",
       "      <th>2011-01-01</th>\n",
       "      <td>77.053879</td>\n",
       "    </tr>\n",
       "    <tr>\n",
       "      <th>2012-01-01</th>\n",
       "      <td>77.945163</td>\n",
       "    </tr>\n",
       "  </tbody>\n",
       "</table>\n",
       "</div>"
      ],
      "text/plain": [
       "                Price\n",
       "2008-01-01  37.611394\n",
       "2009-01-01  73.642577\n",
       "2010-01-01  67.572343\n",
       "2011-01-01  77.053879\n",
       "2012-01-01  77.945163"
      ]
     },
     "execution_count": 88,
     "metadata": {},
     "output_type": "execute_result"
    }
   ],
   "source": [
    "#Getting Oil Price for Saudi Arabia from Fred\n",
    "fred = Fred(api_key='57bd4282521725d9bf0fee73890bbdd7')\n",
    "saudi_prices = fred.get_series('SAUPZPIOILBEGUSD')\n",
    "wti_prices = fred.get_series('WTISPLC')\n",
    "\n",
    "\n",
    "saudi_df = pd.DataFrame(saudi_prices)\n",
    "saudi_df.columns = ['Price']\n",
    "saudi_df.head()"
   ]
  },
  {
   "cell_type": "code",
   "execution_count": 89,
   "metadata": {},
   "outputs": [
    {
     "data": {
      "text/html": [
       "<div>\n",
       "<style scoped>\n",
       "    .dataframe tbody tr th:only-of-type {\n",
       "        vertical-align: middle;\n",
       "    }\n",
       "\n",
       "    .dataframe tbody tr th {\n",
       "        vertical-align: top;\n",
       "    }\n",
       "\n",
       "    .dataframe thead th {\n",
       "        text-align: right;\n",
       "    }\n",
       "</style>\n",
       "<table border=\"1\" class=\"dataframe\">\n",
       "  <thead>\n",
       "    <tr style=\"text-align: right;\">\n",
       "      <th></th>\n",
       "      <th>09.11.2023</th>\n",
       "      <th>68.46</th>\n",
       "    </tr>\n",
       "  </thead>\n",
       "  <tbody>\n",
       "    <tr>\n",
       "      <th>0</th>\n",
       "      <td>08.11.2023</td>\n",
       "      <td>68.41</td>\n",
       "    </tr>\n",
       "    <tr>\n",
       "      <th>1</th>\n",
       "      <td>07.11.2023</td>\n",
       "      <td>70.46</td>\n",
       "    </tr>\n",
       "    <tr>\n",
       "      <th>2</th>\n",
       "      <td>06.11.2023</td>\n",
       "      <td>74.04</td>\n",
       "    </tr>\n",
       "    <tr>\n",
       "      <th>3</th>\n",
       "      <td>03.11.2023</td>\n",
       "      <td>73.80</td>\n",
       "    </tr>\n",
       "    <tr>\n",
       "      <th>4</th>\n",
       "      <td>02.11.2023</td>\n",
       "      <td>74.46</td>\n",
       "    </tr>\n",
       "  </tbody>\n",
       "</table>\n",
       "</div>"
      ],
      "text/plain": [
       "   09.11.2023  68.46\n",
       "0  08.11.2023  68.41\n",
       "1  07.11.2023  70.46\n",
       "2  06.11.2023  74.04\n",
       "3  03.11.2023  73.80\n",
       "4  02.11.2023  74.46"
      ]
     },
     "execution_count": 89,
     "metadata": {},
     "output_type": "execute_result"
    }
   ],
   "source": [
    "urals_df = pd.read_csv('data/urals_prices.csv', sep=';')\n",
    "urals_df.head()"
   ]
  },
  {
   "cell_type": "code",
   "execution_count": 90,
   "metadata": {},
   "outputs": [
    {
     "data": {
      "text/plain": [
       "<AxesSubplot:>"
      ]
     },
     "execution_count": 90,
     "metadata": {},
     "output_type": "execute_result"
    },
    {
     "data": {
      "image/png": "[encoded data removed]",
      "text/plain": [
       "<Figure size 432x288 with 1 Axes>"
      ]
     },
     "metadata": {
      "needs_background": "light"
     },
     "output_type": "display_data"
    }
   ],
   "source": [
    "#Plotting\n",
    "saudi_df.plot()"
   ]
  },
  {
   "cell_type": "code",
   "execution_count": 91,
   "metadata": {},
   "outputs": [
    {
     "data": {
      "text/plain": [
       "<AxesSubplot:>"
      ]
     },
     "execution_count": 91,
     "metadata": {},
     "output_type": "execute_result"
    },
    {
     "data": {
      "image/png": "[encoded data removed]",
      "text/plain": [
       "<Figure size 432x288 with 1 Axes>"
      ]
     },
     "metadata": {
      "needs_background": "light"
     },
     "output_type": "display_data"
    }
   ],
   "source": [
    "wti_df.plot()"
   ]
  },
  {
   "cell_type": "code",
   "execution_count": 93,
   "metadata": {},
   "outputs": [
    {
     "data": {
      "text/plain": [
       "<AxesSubplot:>"
      ]
     },
     "execution_count": 93,
     "metadata": {},
     "output_type": "execute_result"
    },
    {
     "data": {
      "image/png": "[encoded data removed]",
      "text/plain": [
       "<Figure size 432x288 with 1 Axes>"
      ]
     },
     "metadata": {
      "needs_background": "light"
     },
     "output_type": "display_data"
    }
   ],
   "source": [
    "urals_df.plot()"
   ]
  }
 ],
 "metadata": {
  "colab": {
   "authorship_tag": "ABX9TyP4LFyLenNJuhWGKylyq4U8",
   "provenance": []
  },
  "kernelspec": {
   "display_name": "Python 3 (ipykernel)",
   "language": "python",
   "name": "python3"
  },
  "language_info": {
   "codemirror_mode": {
    "name": "ipython",
    "version": 3
   },
   "file_extension": ".py",
   "mimetype": "text/x-python",
   "name": "python",
   "nbconvert_exporter": "python",
   "pygments_lexer": "ipython3",
   "version": "3.9.12"
  }
 },
 "nbformat": 4,
 "nbformat_minor": 1
}
