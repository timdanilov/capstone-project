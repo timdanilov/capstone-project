{
 "cells": [
  {
   "cell_type": "code",
   "execution_count": 77,
   "metadata": {
    "id": "4p_mtjetDo4F"
   },
   "outputs": [
    {
     "name": "stdout",
     "output_type": "stream",
     "text": [
      "Requirement already satisfied: pandas in c:\\users\\timda\\anaconda3\\lib\\site-packages (from -r requirements.txt (line 1)) (1.4.2)\n",
      "Requirement already satisfied: numpy in c:\\users\\timda\\anaconda3\\lib\\site-packages (from -r requirements.txt (line 2)) (1.22.4)\n",
      "Requirement already satisfied: fredapi in c:\\users\\timda\\anaconda3\\lib\\site-packages (from -r requirements.txt (line 3)) (0.5.0)\n",
      "Requirement already satisfied: EIA_python in c:\\users\\timda\\anaconda3\\lib\\site-packages (from -r requirements.txt (line 4)) (1.22)\n",
      "Requirement already satisfied: requests in c:\\users\\timda\\anaconda3\\lib\\site-packages (from -r requirements.txt (line 5)) (2.27.1)\n",
      "Requirement already satisfied: python-dateutil>=2.8.1 in c:\\users\\timda\\anaconda3\\lib\\site-packages (from pandas->-r requirements.txt (line 1)) (2.8.2)\n",
      "Requirement already satisfied: pytz>=2020.1 in c:\\users\\timda\\anaconda3\\lib\\site-packages (from pandas->-r requirements.txt (line 1)) (2022.7.1)\n",
      "Requirement already satisfied: urllib3<1.27,>=1.21.1 in c:\\users\\timda\\anaconda3\\lib\\site-packages (from requests->-r requirements.txt (line 5)) (1.26.9)\n",
      "Requirement already satisfied: certifi>=2017.4.17 in c:\\users\\timda\\anaconda3\\lib\\site-packages (from requests->-r requirements.txt (line 5)) (2021.10.8)\n",
      "Requirement already satisfied: idna<4,>=2.5 in c:\\users\\timda\\anaconda3\\lib\\site-packages (from requests->-r requirements.txt (line 5)) (3.3)\n",
      "Requirement already satisfied: charset-normalizer~=2.0.0 in c:\\users\\timda\\anaconda3\\lib\\site-packages (from requests->-r requirements.txt (line 5)) (2.0.4)\n",
      "Requirement already satisfied: six>=1.5 in c:\\users\\timda\\anaconda3\\lib\\site-packages (from python-dateutil>=2.8.1->pandas->-r requirements.txt (line 1)) (1.16.0)\n",
      "Note: you may need to restart the kernel to use updated packages.\n"
     ]
    }
   ],
   "source": [
    "%pip install -r requirements.txt"
   ]
  },
  {
   "cell_type": "code",
   "execution_count": 78,
   "metadata": {},
   "outputs": [],
   "source": [
    "#Importing libraries\n",
    "import pandas as pd\n",
    "from fredapi import Fred\n",
    "import requests"
   ]
  },
  {
   "cell_type": "markdown",
   "metadata": {},
   "source": [
    "# Data Collection"
   ]
  },
  {
   "cell_type": "code",
   "execution_count": 94,
   "metadata": {},
   "outputs": [],
   "source": [
    "start = '2018-10-01'\n",
    "end = '2023-10-01'\n",
    "api_key = \"WyIzc4qhpYE6rxEDvB216tCCuvSkHBwGLJ6ddpam\"\n",
    "\n",
    "def retrieve_data(product):\n",
    "    # Create EIA URL using our API key\n",
    "    eia_url = 'https://api.eia.gov/v2/petroleum/pri/spt/data/'\n",
    "    params = '?frequency=daily&data[0]=value&facets[product][]=%s&start=%s&end=%s&sort[0][column]=period&sort[0][direction]=desc&api_key=%s' % (product, start, end, api_key)\n",
    "\n",
    "    # Fetch the data\n",
    "    data = requests.get(eia_url + params).json()\n",
    "    df = pd.DataFrame(data['response']['data'])\n",
    "\n",
    "    # Returning all necessary columns\n",
    "    return df[['period', 'product', 'product-name', 'value', 'units']]"
   ]
  },
  {
   "cell_type": "code",
   "execution_count": 87,
   "metadata": {},
   "outputs": [
    {
     "data": {
      "text/html": [
       "<div>\n",
       "<style scoped>\n",
       "    .dataframe tbody tr th:only-of-type {\n",
       "        vertical-align: middle;\n",
       "    }\n",
       "\n",
       "    .dataframe tbody tr th {\n",
       "        vertical-align: top;\n",
       "    }\n",
       "\n",
       "    .dataframe thead th {\n",
       "        text-align: right;\n",
       "    }\n",
       "</style>\n",
       "<table border=\"1\" class=\"dataframe\">\n",
       "  <thead>\n",
       "    <tr style=\"text-align: right;\">\n",
       "      <th></th>\n",
       "      <th>period</th>\n",
       "      <th>product</th>\n",
       "      <th>product-name</th>\n",
       "      <th>value</th>\n",
       "      <th>units</th>\n",
       "    </tr>\n",
       "  </thead>\n",
       "  <tbody>\n",
       "    <tr>\n",
       "      <th>0</th>\n",
       "      <td>2023-09-29</td>\n",
       "      <td>EPCWTI</td>\n",
       "      <td>WTI Crude Oil</td>\n",
       "      <td>90.77</td>\n",
       "      <td>$/BBL</td>\n",
       "    </tr>\n",
       "    <tr>\n",
       "      <th>1</th>\n",
       "      <td>2023-09-28</td>\n",
       "      <td>EPCWTI</td>\n",
       "      <td>WTI Crude Oil</td>\n",
       "      <td>91.65</td>\n",
       "      <td>$/BBL</td>\n",
       "    </tr>\n",
       "    <tr>\n",
       "      <th>2</th>\n",
       "      <td>2023-09-27</td>\n",
       "      <td>EPCWTI</td>\n",
       "      <td>WTI Crude Oil</td>\n",
       "      <td>93.67</td>\n",
       "      <td>$/BBL</td>\n",
       "    </tr>\n",
       "    <tr>\n",
       "      <th>3</th>\n",
       "      <td>2023-09-26</td>\n",
       "      <td>EPCWTI</td>\n",
       "      <td>WTI Crude Oil</td>\n",
       "      <td>91.43</td>\n",
       "      <td>$/BBL</td>\n",
       "    </tr>\n",
       "    <tr>\n",
       "      <th>4</th>\n",
       "      <td>2023-09-25</td>\n",
       "      <td>EPCWTI</td>\n",
       "      <td>WTI Crude Oil</td>\n",
       "      <td>89.68</td>\n",
       "      <td>$/BBL</td>\n",
       "    </tr>\n",
       "  </tbody>\n",
       "</table>\n",
       "</div>"
      ],
      "text/plain": [
       "       period product   product-name  value  units\n",
       "0  2023-09-29  EPCWTI  WTI Crude Oil  90.77  $/BBL\n",
       "1  2023-09-28  EPCWTI  WTI Crude Oil  91.65  $/BBL\n",
       "2  2023-09-27  EPCWTI  WTI Crude Oil  93.67  $/BBL\n",
       "3  2023-09-26  EPCWTI  WTI Crude Oil  91.43  $/BBL\n",
       "4  2023-09-25  EPCWTI  WTI Crude Oil  89.68  $/BBL"
      ]
     },
     "execution_count": 87,
     "metadata": {},
     "output_type": "execute_result"
    }
   ],
   "source": [
    "# Retrieving data for WTI Crude Oil and Oil products\n",
    "\n",
    "wti_df = retrieve_data('EPCWTI')\n",
    "gasoline_df = retrieve_data('EPMRU') # Conventional Regular Gasoline\n",
    "kerosine_df = retrieve_data('EPJK') # Kerosene-Type Jet Fuel\n",
    "diesel_df = retrieve_data('EPD2DXL0') # No 2 Diesel Low Sulfur (0-15 ppm)\n",
    "heating_oil_df = retrieve_data('EPD2F') # No 2 Fuel Oil / Heating Oil\n",
    "propane_df = retrieve_data('EPLLPA') # Propane\n",
    "\n",
    "wti_df.head()"
   ]
  },
  {
   "cell_type": "code",
   "execution_count": 95,
   "metadata": {},
   "outputs": [
    {
     "data": {
      "text/html": [
       "<div>\n",
       "<style scoped>\n",
       "    .dataframe tbody tr th:only-of-type {\n",
       "        vertical-align: middle;\n",
       "    }\n",
       "\n",
       "    .dataframe tbody tr th {\n",
       "        vertical-align: top;\n",
       "    }\n",
       "\n",
       "    .dataframe thead th {\n",
       "        text-align: right;\n",
       "    }\n",
       "</style>\n",
       "<table border=\"1\" class=\"dataframe\">\n",
       "  <thead>\n",
       "    <tr style=\"text-align: right;\">\n",
       "      <th></th>\n",
       "      <th>period</th>\n",
       "      <th>product</th>\n",
       "      <th>product-name</th>\n",
       "      <th>value</th>\n",
       "      <th>units</th>\n",
       "    </tr>\n",
       "  </thead>\n",
       "  <tbody>\n",
       "    <tr>\n",
       "      <th>0</th>\n",
       "      <td>2023-09-29</td>\n",
       "      <td>EPCWTI</td>\n",
       "      <td>WTI Crude Oil</td>\n",
       "      <td>90.77</td>\n",
       "      <td>$/BBL</td>\n",
       "    </tr>\n",
       "    <tr>\n",
       "      <th>1</th>\n",
       "      <td>2023-09-28</td>\n",
       "      <td>EPCWTI</td>\n",
       "      <td>WTI Crude Oil</td>\n",
       "      <td>91.65</td>\n",
       "      <td>$/BBL</td>\n",
       "    </tr>\n",
       "    <tr>\n",
       "      <th>2</th>\n",
       "      <td>2023-09-27</td>\n",
       "      <td>EPCWTI</td>\n",
       "      <td>WTI Crude Oil</td>\n",
       "      <td>93.67</td>\n",
       "      <td>$/BBL</td>\n",
       "    </tr>\n",
       "    <tr>\n",
       "      <th>3</th>\n",
       "      <td>2023-09-26</td>\n",
       "      <td>EPCWTI</td>\n",
       "      <td>WTI Crude Oil</td>\n",
       "      <td>91.43</td>\n",
       "      <td>$/BBL</td>\n",
       "    </tr>\n",
       "    <tr>\n",
       "      <th>4</th>\n",
       "      <td>2023-09-25</td>\n",
       "      <td>EPCWTI</td>\n",
       "      <td>WTI Crude Oil</td>\n",
       "      <td>89.68</td>\n",
       "      <td>$/BBL</td>\n",
       "    </tr>\n",
       "  </tbody>\n",
       "</table>\n",
       "</div>"
      ],
      "text/plain": [
       "       period product   product-name  value  units\n",
       "0  2023-09-29  EPCWTI  WTI Crude Oil  90.77  $/BBL\n",
       "1  2023-09-28  EPCWTI  WTI Crude Oil  91.65  $/BBL\n",
       "2  2023-09-27  EPCWTI  WTI Crude Oil  93.67  $/BBL\n",
       "3  2023-09-26  EPCWTI  WTI Crude Oil  91.43  $/BBL\n",
       "4  2023-09-25  EPCWTI  WTI Crude Oil  89.68  $/BBL"
      ]
     },
     "execution_count": 95,
     "metadata": {},
     "output_type": "execute_result"
    }
   ],
   "source": [
    "wti_df = retrieve_data('EPCWTI')\n",
    "wti_df.head()"
   ]
  },
  {
   "cell_type": "code",
   "execution_count": 88,
   "metadata": {},
   "outputs": [
    {
     "data": {
      "text/html": [
       "<div>\n",
       "<style scoped>\n",
       "    .dataframe tbody tr th:only-of-type {\n",
       "        vertical-align: middle;\n",
       "    }\n",
       "\n",
       "    .dataframe tbody tr th {\n",
       "        vertical-align: top;\n",
       "    }\n",
       "\n",
       "    .dataframe thead th {\n",
       "        text-align: right;\n",
       "    }\n",
       "</style>\n",
       "<table border=\"1\" class=\"dataframe\">\n",
       "  <thead>\n",
       "    <tr style=\"text-align: right;\">\n",
       "      <th></th>\n",
       "      <th>Price</th>\n",
       "    </tr>\n",
       "  </thead>\n",
       "  <tbody>\n",
       "    <tr>\n",
       "      <th>2008-01-01</th>\n",
       "      <td>37.611394</td>\n",
       "    </tr>\n",
       "    <tr>\n",
       "      <th>2009-01-01</th>\n",
       "      <td>73.642577</td>\n",
       "    </tr>\n",
       "    <tr>\n",
       "      <th>2010-01-01</th>\n",
       "      <td>67.572343</td>\n",
       "    </tr>\n",
       "    <tr>\n",
       "      <th>2011-01-01</th>\n",
       "      <td>77.053879</td>\n",
       "    </tr>\n",
       "    <tr>\n",
       "      <th>2012-01-01</th>\n",
       "      <td>77.945163</td>\n",
       "    </tr>\n",
       "  </tbody>\n",
       "</table>\n",
       "</div>"
      ],
      "text/plain": [
       "                Price\n",
       "2008-01-01  37.611394\n",
       "2009-01-01  73.642577\n",
       "2010-01-01  67.572343\n",
       "2011-01-01  77.053879\n",
       "2012-01-01  77.945163"
      ]
     },
     "execution_count": 88,
     "metadata": {},
     "output_type": "execute_result"
    }
   ],
   "source": [
    "#Getting Oil Price for Saudi Arabia from Fred\n",
    "fred = Fred(api_key='57bd4282521725d9bf0fee73890bbdd7')\n",
    "saudi_prices = fred.get_series('SAUPZPIOILBEGUSD')\n",
    "wti_prices = fred.get_series('WTISPLC')\n",
    "\n",
    "\n",
    "saudi_df = pd.DataFrame(saudi_prices)\n",
    "saudi_df.columns = ['Price']\n",
    "saudi_df.head()"
   ]
  },
  {
   "cell_type": "code",
   "execution_count": 89,
   "metadata": {},
   "outputs": [
    {
     "data": {
      "text/html": [
       "<div>\n",
       "<style scoped>\n",
       "    .dataframe tbody tr th:only-of-type {\n",
       "        vertical-align: middle;\n",
       "    }\n",
       "\n",
       "    .dataframe tbody tr th {\n",
       "        vertical-align: top;\n",
       "    }\n",
       "\n",
       "    .dataframe thead th {\n",
       "        text-align: right;\n",
       "    }\n",
       "</style>\n",
       "<table border=\"1\" class=\"dataframe\">\n",
       "  <thead>\n",
       "    <tr style=\"text-align: right;\">\n",
       "      <th></th>\n",
       "      <th>09.11.2023</th>\n",
       "      <th>68.46</th>\n",
       "    </tr>\n",
       "  </thead>\n",
       "  <tbody>\n",
       "    <tr>\n",
       "      <th>0</th>\n",
       "      <td>08.11.2023</td>\n",
       "      <td>68.41</td>\n",
       "    </tr>\n",
       "    <tr>\n",
       "      <th>1</th>\n",
       "      <td>07.11.2023</td>\n",
       "      <td>70.46</td>\n",
       "    </tr>\n",
       "    <tr>\n",
       "      <th>2</th>\n",
       "      <td>06.11.2023</td>\n",
       "      <td>74.04</td>\n",
       "    </tr>\n",
       "    <tr>\n",
       "      <th>3</th>\n",
       "      <td>03.11.2023</td>\n",
       "      <td>73.80</td>\n",
       "    </tr>\n",
       "    <tr>\n",
       "      <th>4</th>\n",
       "      <td>02.11.2023</td>\n",
       "      <td>74.46</td>\n",
       "    </tr>\n",
       "  </tbody>\n",
       "</table>\n",
       "</div>"
      ],
      "text/plain": [
       "   09.11.2023  68.46\n",
       "0  08.11.2023  68.41\n",
       "1  07.11.2023  70.46\n",
       "2  06.11.2023  74.04\n",
       "3  03.11.2023  73.80\n",
       "4  02.11.2023  74.46"
      ]
     },
     "execution_count": 89,
     "metadata": {},
     "output_type": "execute_result"
    }
   ],
   "source": [
    "urals_df = pd.read_csv('data/urals_prices.csv', sep=';')\n",
    "urals_df.head()"
   ]
  },
  {
   "cell_type": "code",
   "execution_count": 90,
   "metadata": {},
   "outputs": [
    {
     "data": {
      "text/plain": [
       "<AxesSubplot:>"
      ]
     },
     "execution_count": 90,
     "metadata": {},
     "output_type": "execute_result"
    },
    {
     "data": {
      "image/png": "[encoded data removed]",
      "text/plain": [
       "<Figure size 432x288 with 1 Axes>"
      ]
     },
     "metadata": {
      "needs_background": "light"
     },
     "output_type": "display_data"
    }
   ],
   "source": [
    "#Plotting\n",
    "saudi_df.plot()"
   ]
  },
  {
   "cell_type": "code",
   "execution_count": 91,
   "metadata": {},
   "outputs": [
    {
     "data": {
      "text/plain": [
       "<AxesSubplot:>"
      ]
     },
     "execution_count": 91,
     "metadata": {},
     "output_type": "execute_result"
    },
    {
     "data": {
      "image/png": "[encoded data removed]",
      "text/plain": [
       "<Figure size 432x288 with 1 Axes>"
      ]
     },
     "metadata": {
      "needs_background": "light"
     },
     "output_type": "display_data"
    }
   ],
   "source": [
    "wti_df.plot()"
   ]
  },
  {
   "cell_type": "code",
   "execution_count": 93,
   "metadata": {},
   "outputs": [
    {
     "data": {
      "text/plain": [
       "<AxesSubplot:>"
      ]
     },
     "execution_count": 93,
     "metadata": {},
     "output_type": "execute_result"
    },
    {
     "data": {
      "image/png": "[encoded data removed]",
      "text/plain": [
       "<Figure size 432x288 with 1 Axes>"
      ]
     },
     "metadata": {
      "needs_background": "light"
     },
     "output_type": "display_data"
    }
   ],
   "source": [
    "urals_df.plot()"
   ]
  },
  {
   "cell_type": "code",
   "execution_count": null,
   "metadata": {},
   "outputs": [],
   "source": []
  }
 ],
 "metadata": {
  "colab": {
   "authorship_tag": "ABX9TyP4LFyLenNJuhWGKylyq4U8",
   "provenance": []
  },
  "kernelspec": {
   "display_name": "Python 3 (ipykernel)",
   "language": "python",
   "name": "python3"
  },
  "language_info": {
   "codemirror_mode": {
    "name": "ipython",
    "version": 3
   },
   "file_extension": ".py",
   "mimetype": "text/x-python",
   "name": "python",
   "nbconvert_exporter": "python",
   "pygments_lexer": "ipython3",
   "version": "3.9.12"
  }
 },
 "nbformat": 4,
 "nbformat_minor": 1
}
